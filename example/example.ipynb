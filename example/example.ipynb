{
  "cells": [
    {
      "cell_type": "markdown",
      "metadata": {
        "id": "FClC0nnzeuyD"
      },
      "source": [
        "# Reference implementation\n",
        "\n",
        "This code defines a neural network for image classification, loads pre-trained weights and biases, processes a dataset of images, makes predictions, and writes the results to a CSV file.\n",
        "\n"
      ]
    },
    {
      "cell_type": "code",
      "execution_count": 4,
      "metadata": {
        "colab": {
          "base_uri": "https://localhost:8080/"
        },
        "id": "5LWOzajqwB_s",
        "outputId": "83aebc8f-12e9-42fe-ece9-f23d5dafb836"
      },
      "outputs": [
        {
          "ename": "ModuleNotFoundError",
          "evalue": "No module named 'torch'",
          "output_type": "error",
          "traceback": [
            "\u001b[0;31m---------------------------------------------------------------------------\u001b[0m",
            "\u001b[0;31mModuleNotFoundError\u001b[0m                       Traceback (most recent call last)",
            "Cell \u001b[0;32mIn[4], line 1\u001b[0m\n\u001b[0;32m----> 1\u001b[0m \u001b[38;5;28;01mimport\u001b[39;00m \u001b[38;5;21;01mtorch\u001b[39;00m\n\u001b[1;32m      3\u001b[0m \u001b[38;5;66;03m# Check if CUDA is available\u001b[39;00m\n\u001b[1;32m      4\u001b[0m \u001b[38;5;28;01mif\u001b[39;00m torch\u001b[38;5;241m.\u001b[39mcuda\u001b[38;5;241m.\u001b[39mis_available():\n",
            "\u001b[0;31mModuleNotFoundError\u001b[0m: No module named 'torch'"
          ]
        }
      ],
      "source": [
        "import torch\n",
        "\n",
        "# Check if CUDA is available\n",
        "if torch.cuda.is_available():\n",
        "    device = torch.device(\"cuda\")\n",
        "    print(\"CUDA is available. Using GPU.\")\n",
        "else:\n",
        "    device = torch.device(\"cpu\")\n",
        "    print(\"CUDA is not available. Using CPU.\")\n"
      ]
    },
    {
      "cell_type": "code",
      "execution_count": 3,
      "metadata": {
        "colab": {
          "base_uri": "https://localhost:8080/"
        },
        "id": "BZgpRN5FPvIT",
        "outputId": "60d07766-33ae-4cc3-d0e0-b36f2ededf09"
      },
      "outputs": [
        {
          "ename": "ModuleNotFoundError",
          "evalue": "No module named 'torch'",
          "output_type": "error",
          "traceback": [
            "\u001b[0;31m---------------------------------------------------------------------------\u001b[0m",
            "\u001b[0;31mModuleNotFoundError\u001b[0m                       Traceback (most recent call last)",
            "Cell \u001b[0;32mIn[3], line 1\u001b[0m\n\u001b[0;32m----> 1\u001b[0m \u001b[38;5;28;01mimport\u001b[39;00m \u001b[38;5;21;01mtorch\u001b[39;00m\n\u001b[1;32m      2\u001b[0m \u001b[38;5;28;01mimport\u001b[39;00m \u001b[38;5;21;01mtorch\u001b[39;00m\u001b[38;5;21;01m.\u001b[39;00m\u001b[38;5;21;01mnn\u001b[39;00m \u001b[38;5;28;01mas\u001b[39;00m \u001b[38;5;21;01mnn\u001b[39;00m\n\u001b[1;32m      3\u001b[0m \u001b[38;5;28;01mfrom\u001b[39;00m \u001b[38;5;21;01mtorch\u001b[39;00m\u001b[38;5;21;01m.\u001b[39;00m\u001b[38;5;21;01mutils\u001b[39;00m\u001b[38;5;21;01m.\u001b[39;00m\u001b[38;5;21;01mdata\u001b[39;00m \u001b[38;5;28;01mimport\u001b[39;00m DataLoader, Dataset\n",
            "\u001b[0;31mModuleNotFoundError\u001b[0m: No module named 'torch'"
          ]
        }
      ],
      "source": [
        "import torch\n",
        "import torch.nn as nn\n",
        "from torch.utils.data import DataLoader, Dataset\n",
        "import os\n",
        "import csv\n",
        "\n",
        "TENSOR_DIR = \"../tensors\"\n",
        "WEIGHTS_AND_BIASES_DIR = \"../weights_and_biases.txt\"\n",
        "PREDICTIONS_FILENAME = \"predictions.csv\"\n",
        "\n",
        "class ExampleNN(nn.Module):\n",
        "    \"\"\"Fully connected neural network as described in README.md\"\"\"\n",
        "    def __init__(self):\n",
        "        super(ExampleNN, self).__init__()\n",
        "        self.fc1 = nn.Linear(225, 98)\n",
        "        self.fc2 = nn.Linear(98, 65)\n",
        "        self.fc3 = nn.Linear(65, 50)\n",
        "        self.fc4 = nn.Linear(50, 30)\n",
        "        self.fc5 = nn.Linear(30, 25)\n",
        "        self.fc6 = nn.Linear(25, 40)\n",
        "        self.fc7 = nn.Linear(40, 52)\n",
        "\n",
        "    def forward(self, x):\n",
        "        # Cross-entropy loss only works with the logits directly, so we skip\n",
        "        # the softmax for training\n",
        "        x = torch.relu(self.fc1(x))\n",
        "        x = torch.relu(self.fc2(x))\n",
        "        x = torch.relu(self.fc3(x))\n",
        "        x = torch.relu(self.fc4(x))\n",
        "        x = torch.relu(self.fc5(x))\n",
        "        x = torch.relu(self.fc6(x))\n",
        "        x = self.fc7(x)\n",
        "        return x\n",
        "\n",
        "    def forward_with_softmax(self, x):\n",
        "        x = self.forward(x)\n",
        "        return torch.softmax(x, dim=1)\n",
        "\n",
        "class TensorDataset(Dataset):\n",
        "    def __init__(self, tensor_dir, transform=None):\n",
        "        self.tensor_dir = tensor_dir\n",
        "        self.tensor_files = [f for f in os.listdir(tensor_dir)]\n",
        "        self.transform = transform\n",
        "\n",
        "    def __len__(self):\n",
        "        return len(self.tensor_files)\n",
        "\n",
        "    def __getitem__(self, idx):\n",
        "        tensor_name = self.tensor_files[idx]\n",
        "        label = int(tensor_name[:2]) - 1\n",
        "\n",
        "        tensor_path = os.path.join(self.tensor_dir, tensor_name)\n",
        "        with open(tensor_path, 'r') as f:\n",
        "            tensor_data = f.read().strip().split(',')\n",
        "            tensor_data = [float(value) for value in tensor_data]\n",
        "            image_tensor = torch.tensor(tensor_data, dtype=torch.float32)\n",
        "\n",
        "        return image_tensor, label\n",
        "\n",
        "def load_weights_and_biases(model, filename):\n",
        "    \"\"\"Load pre-provided weights and biases from a file\"\"\"\n",
        "    state_dict = model.state_dict()\n",
        "    with open(filename, 'r') as f:\n",
        "        lines = f.readlines()\n",
        "        for i in range(0, len(lines), 2):\n",
        "            name = lines[i].strip().replace(':', '')\n",
        "            values = list(map(float, lines[i+1].strip().split(',')))\n",
        "            tensor_shape = state_dict[name].shape\n",
        "            tensor = torch.tensor(values).view(tensor_shape)\n",
        "            tensor = tensor.cuda()\n",
        "            state_dict[name] = tensor\n",
        "    model.load_state_dict(state_dict, strict=True)\n",
        "\n",
        "\n",
        "dataset = TensorDataset(tensor_dir=TENSOR_DIR)\n",
        "dataloader = DataLoader(dataset, batch_size=1, shuffle=True)\n",
        "model = ExampleNN().cuda()\n",
        "load_weights_and_biases(model, WEIGHTS_AND_BIASES_DIR)\n",
        "\n",
        "lookup_table = {\n",
        "    0: 'A', 1: 'a', 2: 'B', 3: 'b', 4: 'C', 5: 'c', 6: 'D', 7: 'd',\n",
        "    8: 'E', 9: 'e', 10: 'F', 11: 'f', 12: 'G', 13: 'g', 14: 'H', 15: 'h',\n",
        "    16: 'I', 17: 'i', 18: 'J', 19: 'j', 20: 'K', 21: 'k', 22: 'L', 23: 'l',\n",
        "    24: 'M', 25: 'm', 26: 'N', 27: 'n', 28: 'O', 29: 'o', 30: 'P', 31: 'p',\n",
        "    32: 'Q', 33: 'q', 34: 'R', 35: 'r', 36: 'S', 37: 's', 38: 'T', 39: 't',\n",
        "    40: 'U', 41: 'u', 42: 'V', 43: 'v', 44: 'W', 45: 'w', 46: 'X', 47: 'x',\n",
        "    48: 'Y', 49: 'y', 50: 'Z', 51: 'z'\n",
        "}\n",
        "\n",
        "def predict(model, dataloader):\n",
        "    model.eval()\n",
        "    all_preds = []\n",
        "    with torch.no_grad():\n",
        "        for images, labels in dataloader:\n",
        "            images, labels = images.cuda(), labels.cuda()\n",
        "            outputs = model.forward_with_softmax(images)\n",
        "            # select the most likely output from our softmax model\n",
        "            _, preds = torch.max(outputs, 1)\n",
        "\n",
        "            all_preds.append(\n",
        "                (preds.item(), labels.item())\n",
        "                )\n",
        "\n",
        "    # order by the label\n",
        "    sorted_preds = sorted(all_preds, key=lambda x: x[1])\n",
        "\n",
        "    # map labels to letters using the lookup table\n",
        "    mapped_preds = [(i + 1, lookup_table[guess]) for i, (guess, label) in enumerate(sorted_preds)]\n",
        "\n",
        "    with open(PREDICTIONS_FILENAME, mode='w', newline='') as file:\n",
        "      writer = csv.writer(file)\n",
        "      writer.writerow([\"image number\", \"label\"])\n",
        "      for label, guess in mapped_preds:\n",
        "          print(f'{label=},  {guess=}')\n",
        "          writer.writerow([label, guess])\n",
        "\n",
        "predict(model, dataloader)"
      ]
    }
  ],
  "metadata": {
    "accelerator": "GPU",
    "colab": {
      "gpuType": "L4",
      "machine_shape": "hm",
      "provenance": []
    },
    "kernelspec": {
      "display_name": "Python 3",
      "name": "python3"
    },
    "language_info": {
      "codemirror_mode": {
        "name": "ipython",
        "version": 3
      },
      "file_extension": ".py",
      "mimetype": "text/x-python",
      "name": "python",
      "nbconvert_exporter": "python",
      "pygments_lexer": "ipython3",
      "version": "3.12.2"
    }
  },
  "nbformat": 4,
  "nbformat_minor": 0
}
